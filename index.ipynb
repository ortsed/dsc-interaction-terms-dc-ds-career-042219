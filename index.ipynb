{
 "cells": [
  {
   "cell_type": "markdown",
   "metadata": {},
   "source": [
    "# Interactions"
   ]
  },
  {
   "cell_type": "markdown",
   "metadata": {},
   "source": [
    "## Introduction"
   ]
  },
  {
   "cell_type": "markdown",
   "metadata": {},
   "source": [
    "In this section, you'll learn about interactions and how to account for them in regression models."
   ]
  },
  {
   "cell_type": "markdown",
   "metadata": {},
   "source": [
    "## Objectives\n",
    "\n",
    "You will be able to:\n",
    "- Understand what interactions are\n",
    "- Understand how to accommodate for interactions in regression"
   ]
  },
  {
   "cell_type": "markdown",
   "metadata": {},
   "source": [
    "## What are interactions?"
   ]
  },
  {
   "cell_type": "markdown",
   "metadata": {},
   "source": [
    "In statistics, an interaction is a particular property of three or more variables, where two or more variables *interact in a non-additive manner* when affecting a third variable. In other words, the two variables interact to have an effect that is more (or less) than the sum of their parts. \n",
    "\n",
    "This might seem pretty abstract, let's use an example to illustrate this.\n",
    "\n",
    "Let's assume we're trying to predict weight loss of certain people who took a diet, given two (categorical) predictors: the country, and the type of diet they followed. Have a look at the plot below.\n",
    "\n",
    "- Considering just the people in the USA and the UK, it seems like the effects of both predictors are additive:\n",
    "    * Weight loss is bigger in the UK than in the USA.\n",
    "    * Diet C is more effective than diet A. Diet A is more effective than diet B, which makes diet B the least effective.\n",
    "- When you look at New Zealand, however, it seems like the average weight loss is somewhere between the weight loss for USA and UK, but people seem to be responding much better to diet A than in the UK"
   ]
  },
  {
   "cell_type": "markdown",
   "metadata": {},
   "source": [
    "<img src='./images/diet_image.png' style=\"width: 500px;\">"
   ]
  },
  {
   "cell_type": "markdown",
   "metadata": {},
   "source": [
    "This means that the \"Country\" and \"Diet\" affect weight loss in a non-additive matter. If we're mostly interested in the effect of diet on weight loss (which seems to be plausible here), we say that Country is a **confounding factor** of the effect of \"Diet\" on weight loss."
   ]
  },
  {
   "cell_type": "markdown",
   "metadata": {},
   "source": [
    "## Why is it important to account for interactions?"
   ]
  },
  {
   "cell_type": "markdown",
   "metadata": {},
   "source": [
    "Now that you've seen how interactions work, let's now discuss why it is important to add interaction terms. The reason for that is pretty straightforward: not accounting for them might lead to results that are wrong. You'll also notice that including them when they're needed will increase your $R^2$ value!\n",
    "\n",
    "In our example, the interaction plot was composed out of categorical predictors (countries and diet type), but interactions can occur between categorical variables or between a mix of categorical variables and continuous variables!"
   ]
  },
  {
   "cell_type": "markdown",
   "metadata": {},
   "source": [
    "Let's go back to our \"cars\" data set and look at some interactions we can include there."
   ]
  },
  {
   "cell_type": "code",
   "execution_count": 1,
   "metadata": {},
   "outputs": [],
   "source": [
    "from sklearn.linear_model import LinearRegression\n",
    "from sklearn.model_selection import cross_val_score\n",
    "from sklearn.model_selection import KFold\n",
    "from itertools import combinations\n",
    "import pandas as pd\n",
    "import numpy as np\n",
    "import matplotlib.pyplot as plt\n",
    "\n",
    "data = pd.read_csv(\"auto-mpg.csv\") \n",
    "y = data[[\"mpg\"]]\n",
    "X = data.drop([\"mpg\", \"car name\"], axis=1)"
   ]
  },
  {
   "cell_type": "code",
   "execution_count": 2,
   "metadata": {},
   "outputs": [],
   "source": [
    "import pandas as pd\n",
    "import numpy as np\n",
    "data = pd.read_csv(\"auto-mpg.csv\") \n",
    "data['horsepower'].astype(str).astype(int)\n",
    "\n",
    "acc = data[\"acceleration\"]\n",
    "logdisp = np.log(data[\"displacement\"])\n",
    "loghorse = np.log(data[\"horsepower\"])\n",
    "logweight= np.log(data[\"weight\"])\n",
    "\n",
    "scaled_acc = (acc-min(acc))/(max(acc)-min(acc))\t\n",
    "scaled_disp = (logdisp-np.mean(logdisp))/np.sqrt(np.var(logdisp))\n",
    "scaled_horse = (loghorse-np.mean(loghorse))/(max(loghorse)-min(loghorse))\n",
    "scaled_weight= (logweight-np.mean(logweight))/np.sqrt(np.var(logweight))\n",
    "\n",
    "data_fin = pd.DataFrame([])\n",
    "data_fin[\"acc\"]= scaled_acc\n",
    "data_fin[\"disp\"]= scaled_disp\n",
    "data_fin[\"horse\"] = scaled_horse\n",
    "data_fin[\"weight\"] = scaled_weight\n",
    "mpg = data[\"mpg\"]\n",
    "data_fin = pd.concat([mpg, data_fin, data[\"cylinders\"], data[\"model year\"], data[\"origin\"]], axis=1)\n",
    "y = data_fin[[\"mpg\"]]\n",
    "X = data_fin.drop([\"mpg\"], axis=1)"
   ]
  },
  {
   "cell_type": "code",
   "execution_count": 3,
   "metadata": {},
   "outputs": [
    {
     "data": {
      "text/plain": [
       "0.8322880898272431"
      ]
     },
     "execution_count": 3,
     "metadata": {},
     "output_type": "execute_result"
    }
   ],
   "source": [
    "regression = LinearRegression()\n",
    "crossvalidation = KFold(n_splits=3, shuffle=True, random_state=1)\n",
    "\n",
    "baseline = np.mean(cross_val_score(regression, X, y, scoring=\"r2\", cv=crossvalidation))\n",
    "baseline"
   ]
  },
  {
   "cell_type": "markdown",
   "metadata": {},
   "source": [
    "See how we built a baseline model using some (log-transformed etc) predictors and some categorical predictors. We didn't properly convert the categorical variables to categorical yet, which we should do in the end, but we want to start with a baseline model and a baseline $R^2$ just to get a sense of what a baseline model looks like."
   ]
  },
  {
   "cell_type": "markdown",
   "metadata": {},
   "source": [
    "## Interactions between horsepower and origin"
   ]
  },
  {
   "cell_type": "markdown",
   "metadata": {},
   "source": [
    "To look at how horsepower and origin interact, you can work as follows. Split the data into 3 data sets, one set per origin. Then fit a model with outcome \"mpg\" and only horsepower as a predictor and do this for each of the data set. Then plot the data all together and see what the regression lines look like."
   ]
  },
  {
   "cell_type": "code",
   "execution_count": 4,
   "metadata": {},
   "outputs": [
    {
     "data": {
      "text/html": [
       "<div>\n",
       "<style scoped>\n",
       "    .dataframe tbody tr th:only-of-type {\n",
       "        vertical-align: middle;\n",
       "    }\n",
       "\n",
       "    .dataframe tbody tr th {\n",
       "        vertical-align: top;\n",
       "    }\n",
       "\n",
       "    .dataframe thead th {\n",
       "        text-align: right;\n",
       "    }\n",
       "</style>\n",
       "<table border=\"1\" class=\"dataframe\">\n",
       "  <thead>\n",
       "    <tr style=\"text-align: right;\">\n",
       "      <th></th>\n",
       "      <th>mpg</th>\n",
       "      <th>acc</th>\n",
       "      <th>disp</th>\n",
       "      <th>horse</th>\n",
       "      <th>weight</th>\n",
       "      <th>cylinders</th>\n",
       "      <th>model year</th>\n",
       "      <th>origin</th>\n",
       "    </tr>\n",
       "  </thead>\n",
       "  <tbody>\n",
       "    <tr>\n",
       "      <th>0</th>\n",
       "      <td>18.0</td>\n",
       "      <td>0.238095</td>\n",
       "      <td>1.125829</td>\n",
       "      <td>0.173727</td>\n",
       "      <td>0.720986</td>\n",
       "      <td>8</td>\n",
       "      <td>70</td>\n",
       "      <td>1</td>\n",
       "    </tr>\n",
       "    <tr>\n",
       "      <th>1</th>\n",
       "      <td>15.0</td>\n",
       "      <td>0.208333</td>\n",
       "      <td>1.372223</td>\n",
       "      <td>0.321860</td>\n",
       "      <td>0.908047</td>\n",
       "      <td>8</td>\n",
       "      <td>70</td>\n",
       "      <td>1</td>\n",
       "    </tr>\n",
       "    <tr>\n",
       "      <th>2</th>\n",
       "      <td>18.0</td>\n",
       "      <td>0.178571</td>\n",
       "      <td>1.191999</td>\n",
       "      <td>0.262641</td>\n",
       "      <td>0.651205</td>\n",
       "      <td>8</td>\n",
       "      <td>70</td>\n",
       "      <td>1</td>\n",
       "    </tr>\n",
       "    <tr>\n",
       "      <th>3</th>\n",
       "      <td>16.0</td>\n",
       "      <td>0.238095</td>\n",
       "      <td>1.107370</td>\n",
       "      <td>0.262641</td>\n",
       "      <td>0.648095</td>\n",
       "      <td>8</td>\n",
       "      <td>70</td>\n",
       "      <td>1</td>\n",
       "    </tr>\n",
       "    <tr>\n",
       "      <th>4</th>\n",
       "      <td>17.0</td>\n",
       "      <td>0.148810</td>\n",
       "      <td>1.094964</td>\n",
       "      <td>0.219773</td>\n",
       "      <td>0.664652</td>\n",
       "      <td>8</td>\n",
       "      <td>70</td>\n",
       "      <td>1</td>\n",
       "    </tr>\n",
       "  </tbody>\n",
       "</table>\n",
       "</div>"
      ],
      "text/plain": [
       "    mpg       acc      disp     horse    weight  cylinders  model year  origin\n",
       "0  18.0  0.238095  1.125829  0.173727  0.720986          8          70       1\n",
       "1  15.0  0.208333  1.372223  0.321860  0.908047          8          70       1\n",
       "2  18.0  0.178571  1.191999  0.262641  0.651205          8          70       1\n",
       "3  16.0  0.238095  1.107370  0.262641  0.648095          8          70       1\n",
       "4  17.0  0.148810  1.094964  0.219773  0.664652          8          70       1"
      ]
     },
     "execution_count": 4,
     "metadata": {},
     "output_type": "execute_result"
    }
   ],
   "source": [
    "origin_1 = data_fin[data_fin[\"origin\"]==1]\n",
    "origin_2 = data_fin[data_fin[\"origin\"]==2]\n",
    "origin_3 = data_fin[data_fin[\"origin\"]==3]\n",
    "origin_1.head()"
   ]
  },
  {
   "cell_type": "code",
   "execution_count": 5,
   "metadata": {},
   "outputs": [
    {
     "name": "stdout",
     "output_type": "stream",
     "text": [
      "[-25.29729196]\n",
      "[-28.17074549]\n",
      "[-30.73684923]\n"
     ]
    }
   ],
   "source": [
    "regression_1 = LinearRegression()\n",
    "regression_2 = LinearRegression()\n",
    "regression_3 = LinearRegression()\n",
    "\n",
    "horse_1 = origin_1[\"horse\"].values.reshape(-1, 1)\n",
    "horse_2 = origin_2[\"horse\"].values.reshape(-1, 1)\n",
    "horse_3 = origin_3[\"horse\"].values.reshape(-1, 1)\n",
    "\n",
    "regression_1.fit(horse_1, origin_1[\"mpg\"])\n",
    "regression_2.fit(horse_2, origin_2[\"mpg\"])\n",
    "regression_3.fit(horse_3, origin_3[\"mpg\"])\n",
    "\n",
    "# Make predictions using the testing set\n",
    "pred_1 = regression_1.predict(horse_1)\n",
    "pred_2 = regression_2.predict(horse_2)\n",
    "pred_3 = regression_3.predict(horse_3)\n",
    "\n",
    "# The coefficients\n",
    "print(regression_1.coef_)\n",
    "print(regression_2.coef_)\n",
    "print(regression_3.coef_)"
   ]
  },
  {
   "cell_type": "markdown",
   "metadata": {},
   "source": [
    "You can see that we have three different estimates for the slope,  -25.29 for origin = 1, -28.17 for origin = 2, and -30.74 for origin = 3. It is not unexpected to see that they are slightly different. Now, let's look at the plot."
   ]
  },
  {
   "cell_type": "code",
   "execution_count": 6,
   "metadata": {},
   "outputs": [
    {
     "data": {
      "image/png": "[encoded data removed]",
      "text/plain": [
       "<Figure size 720x432 with 1 Axes>"
      ]
     },
     "metadata": {
      "needs_background": "light"
     },
     "output_type": "display_data"
    }
   ],
   "source": [
    "# Plot outputs\n",
    "plt.figure(figsize=(10,6))\n",
    "\n",
    "plt.scatter(horse_1, origin_1[\"mpg\"],  color='blue', alpha = 0.3, label = \"origin = 1\")\n",
    "plt.scatter(horse_2, origin_2[\"mpg\"],  color='red', alpha = 0.3, label = \"origin = 2\")\n",
    "plt.scatter(horse_3, origin_3[\"mpg\"],  color='orange', alpha = 0.3, label = \"origin = 3\")\n",
    "\n",
    "plt.plot(horse_1, pred_1,  color='blue', linewidth=2)\n",
    "plt.plot(horse_2, pred_2,  color='red', linewidth=2)\n",
    "plt.plot(horse_3, pred_3,  color='orange', linewidth=2)\n",
    "plt.ylabel(\"mpg\")\n",
    "plt.xlabel(\"horsepower\")\n",
    "plt.legend();"
   ]
  },
  {
   "cell_type": "markdown",
   "metadata": {},
   "source": [
    "Even though we get three different lines at different levels, they do seem to be more or less parallel, so the effect seems pretty additive. Just based on looking at this, it seems like there is no real interaction and the effect of origin when predicting mpg using horsepower is additive. It might not be necessary to include an interaction effect in our model. But how would actually include interaction effects in our model? To do this, you basically multiply 2 predictors. Let's add an interaction effect between origin and horsepower and see how it affects or $R^2$. "
   ]
  },
  {
   "cell_type": "code",
   "execution_count": 7,
   "metadata": {},
   "outputs": [
    {
     "data": {
      "text/plain": [
       "0.8416810370430339"
      ]
     },
     "execution_count": 7,
     "metadata": {},
     "output_type": "execute_result"
    }
   ],
   "source": [
    "regression = LinearRegression()\n",
    "crossvalidation = KFold(n_splits=3, shuffle=True, random_state=1)\n",
    "\n",
    "X_interact = X.copy()\n",
    "X_interact[\"horse_origin\"] = X[\"horse\"] * X[\"origin\"]\n",
    "\n",
    "interact_horse_origin = np.mean(cross_val_score(regression, X_interact, y, scoring=\"r2\", cv=crossvalidation))\n",
    "interact_horse_origin"
   ]
  },
  {
   "cell_type": "markdown",
   "metadata": {},
   "source": [
    "By actually including an interaction effect here, we did bump our $R^2$ to 0.841 from 0.832, so about 1%! Let's now run the same model in statsmodels to see if the interaction effect is significant."
   ]
  },
  {
   "cell_type": "code",
   "execution_count": 8,
   "metadata": {},
   "outputs": [
    {
     "data": {
      "text/html": [
       "<table class=\"simpletable\">\n",
       "<caption>OLS Regression Results</caption>\n",
       "<tr>\n",
       "  <th>Dep. Variable:</th>           <td>mpg</td>       <th>  R-squared:         </th> <td>   0.856</td> \n",
       "</tr>\n",
       "<tr>\n",
       "  <th>Model:</th>                   <td>OLS</td>       <th>  Adj. R-squared:    </th> <td>   0.853</td> \n",
       "</tr>\n",
       "<tr>\n",
       "  <th>Method:</th>             <td>Least Squares</td>  <th>  F-statistic:       </th> <td>   285.6</td> \n",
       "</tr>\n",
       "<tr>\n",
       "  <th>Date:</th>             <td>Wed, 12 Jun 2019</td> <th>  Prob (F-statistic):</th> <td>2.84e-156</td>\n",
       "</tr>\n",
       "<tr>\n",
       "  <th>Time:</th>                 <td>13:41:54</td>     <th>  Log-Likelihood:    </th> <td> -980.75</td> \n",
       "</tr>\n",
       "<tr>\n",
       "  <th>No. Observations:</th>      <td>   392</td>      <th>  AIC:               </th> <td>   1980.</td> \n",
       "</tr>\n",
       "<tr>\n",
       "  <th>Df Residuals:</th>          <td>   383</td>      <th>  BIC:               </th> <td>   2015.</td> \n",
       "</tr>\n",
       "<tr>\n",
       "  <th>Df Model:</th>              <td>     8</td>      <th>                     </th>     <td> </td>    \n",
       "</tr>\n",
       "<tr>\n",
       "  <th>Covariance Type:</th>      <td>nonrobust</td>    <th>                     </th>     <td> </td>    \n",
       "</tr>\n",
       "</table>\n",
       "<table class=\"simpletable\">\n",
       "<tr>\n",
       "        <td></td>          <th>coef</th>     <th>std err</th>      <th>t</th>      <th>P>|t|</th>  <th>[0.025</th>    <th>0.975]</th>  \n",
       "</tr>\n",
       "<tr>\n",
       "  <th>const</th>        <td>  -30.5230</td> <td>    4.092</td> <td>   -7.460</td> <td> 0.000</td> <td>  -38.568</td> <td>  -22.478</td>\n",
       "</tr>\n",
       "<tr>\n",
       "  <th>acc</th>          <td>   -3.8734</td> <td>    1.680</td> <td>   -2.306</td> <td> 0.022</td> <td>   -7.177</td> <td>   -0.570</td>\n",
       "</tr>\n",
       "<tr>\n",
       "  <th>disp</th>         <td>   -1.0423</td> <td>    0.738</td> <td>   -1.412</td> <td> 0.159</td> <td>   -2.494</td> <td>    0.409</td>\n",
       "</tr>\n",
       "<tr>\n",
       "  <th>horse</th>        <td>    1.6583</td> <td>    3.342</td> <td>    0.496</td> <td> 0.620</td> <td>   -4.912</td> <td>    8.228</td>\n",
       "</tr>\n",
       "<tr>\n",
       "  <th>weight</th>       <td>   -3.3236</td> <td>    0.610</td> <td>   -5.452</td> <td> 0.000</td> <td>   -4.522</td> <td>   -2.125</td>\n",
       "</tr>\n",
       "<tr>\n",
       "  <th>cylinders</th>    <td>   -0.0596</td> <td>    0.296</td> <td>   -0.201</td> <td> 0.841</td> <td>   -0.642</td> <td>    0.523</td>\n",
       "</tr>\n",
       "<tr>\n",
       "  <th>model year</th>   <td>    0.7318</td> <td>    0.046</td> <td>   16.002</td> <td> 0.000</td> <td>    0.642</td> <td>    0.822</td>\n",
       "</tr>\n",
       "<tr>\n",
       "  <th>origin</th>       <td>   -0.0913</td> <td>    0.331</td> <td>   -0.276</td> <td> 0.783</td> <td>   -0.743</td> <td>    0.560</td>\n",
       "</tr>\n",
       "<tr>\n",
       "  <th>horse_origin</th> <td>   -6.9316</td> <td>    1.446</td> <td>   -4.793</td> <td> 0.000</td> <td>   -9.775</td> <td>   -4.088</td>\n",
       "</tr>\n",
       "</table>\n",
       "<table class=\"simpletable\">\n",
       "<tr>\n",
       "  <th>Omnibus:</th>       <td>51.231</td> <th>  Durbin-Watson:     </th> <td>   1.542</td>\n",
       "</tr>\n",
       "<tr>\n",
       "  <th>Prob(Omnibus):</th> <td> 0.000</td> <th>  Jarque-Bera (JB):  </th> <td> 102.044</td>\n",
       "</tr>\n",
       "<tr>\n",
       "  <th>Skew:</th>          <td> 0.725</td> <th>  Prob(JB):          </th> <td>6.94e-23</td>\n",
       "</tr>\n",
       "<tr>\n",
       "  <th>Kurtosis:</th>      <td> 5.036</td> <th>  Cond. No.          </th> <td>2.13e+03</td>\n",
       "</tr>\n",
       "</table><br/><br/>Warnings:<br/>[1] Standard Errors assume that the covariance matrix of the errors is correctly specified.<br/>[2] The condition number is large, 2.13e+03. This might indicate that there are<br/>strong multicollinearity or other numerical problems."
      ],
      "text/plain": [
       "<class 'statsmodels.iolib.summary.Summary'>\n",
       "\"\"\"\n",
       "                            OLS Regression Results                            \n",
       "==============================================================================\n",
       "Dep. Variable:                    mpg   R-squared:                       0.856\n",
       "Model:                            OLS   Adj. R-squared:                  0.853\n",
       "Method:                 Least Squares   F-statistic:                     285.6\n",
       "Date:                Wed, 12 Jun 2019   Prob (F-statistic):          2.84e-156\n",
       "Time:                        13:41:54   Log-Likelihood:                -980.75\n",
       "No. Observations:                 392   AIC:                             1980.\n",
       "Df Residuals:                     383   BIC:                             2015.\n",
       "Df Model:                           8                                         \n",
       "Covariance Type:            nonrobust                                         \n",
       "================================================================================\n",
       "                   coef    std err          t      P>|t|      [0.025      0.975]\n",
       "--------------------------------------------------------------------------------\n",
       "const          -30.5230      4.092     -7.460      0.000     -38.568     -22.478\n",
       "acc             -3.8734      1.680     -2.306      0.022      -7.177      -0.570\n",
       "disp            -1.0423      0.738     -1.412      0.159      -2.494       0.409\n",
       "horse            1.6583      3.342      0.496      0.620      -4.912       8.228\n",
       "weight          -3.3236      0.610     -5.452      0.000      -4.522      -2.125\n",
       "cylinders       -0.0596      0.296     -0.201      0.841      -0.642       0.523\n",
       "model year       0.7318      0.046     16.002      0.000       0.642       0.822\n",
       "origin          -0.0913      0.331     -0.276      0.783      -0.743       0.560\n",
       "horse_origin    -6.9316      1.446     -4.793      0.000      -9.775      -4.088\n",
       "==============================================================================\n",
       "Omnibus:                       51.231   Durbin-Watson:                   1.542\n",
       "Prob(Omnibus):                  0.000   Jarque-Bera (JB):              102.044\n",
       "Skew:                           0.725   Prob(JB):                     6.94e-23\n",
       "Kurtosis:                       5.036   Cond. No.                     2.13e+03\n",
       "==============================================================================\n",
       "\n",
       "Warnings:\n",
       "[1] Standard Errors assume that the covariance matrix of the errors is correctly specified.\n",
       "[2] The condition number is large, 2.13e+03. This might indicate that there are\n",
       "strong multicollinearity or other numerical problems.\n",
       "\"\"\""
      ]
     },
     "execution_count": 8,
     "metadata": {},
     "output_type": "execute_result"
    }
   ],
   "source": [
    "import statsmodels.api as sm\n",
    "X_interact = sm.add_constant(X_interact)\n",
    "model = sm.OLS(y,X_interact)\n",
    "results = model.fit()\n",
    "\n",
    "results.summary()"
   ]
  },
  {
   "cell_type": "markdown",
   "metadata": {},
   "source": [
    "Even though the lines look parallel, the interaction effect between horsepower and origin is significant and the R^2 value increased to 0.841."
   ]
  },
  {
   "cell_type": "markdown",
   "metadata": {},
   "source": [
    "## Interactions between horsepower and model year"
   ]
  },
  {
   "cell_type": "markdown",
   "metadata": {},
   "source": [
    "How about interactions between two continuous variables? Let's explore interactions between horsepower and model year. We're interested to see if the effect of horsepower on mpg if different between older cars and younger cars. "
   ]
  },
  {
   "cell_type": "code",
   "execution_count": 9,
   "metadata": {},
   "outputs": [],
   "source": [
    "yr_old = data_fin[:180] # cars from 70 to 75\n",
    "yr_young = data_fin[180:] # cars from 76 to 82"
   ]
  },
  {
   "cell_type": "markdown",
   "metadata": {},
   "source": [
    "What we did here is split the data up to create two data sets, for \"older\" cars and \"younger\" cars."
   ]
  },
  {
   "cell_type": "code",
   "execution_count": 10,
   "metadata": {},
   "outputs": [
    {
     "name": "stdout",
     "output_type": "stream",
     "text": [
      "[-21.39522143]\n",
      "[-35.10169206]\n"
     ]
    },
    {
     "data": {
      "text/plain": [
       "<Figure size 864x504 with 0 Axes>"
      ]
     },
     "metadata": {},
     "output_type": "display_data"
    }
   ],
   "source": [
    "plt.figure(figsize=(12,7))\n",
    "\n",
    "regression_1 = LinearRegression()\n",
    "regression_2 = LinearRegression()\n",
    "\n",
    "horse_1 = yr_old[\"horse\"].values.reshape(-1, 1)\n",
    "horse_2 = yr_young[\"horse\"].values.reshape(-1, 1)\n",
    "\n",
    "regression_1.fit(horse_1, yr_old[\"mpg\"])\n",
    "regression_2.fit(horse_2, yr_young[\"mpg\"])\n",
    "\n",
    "# Make predictions using the testing set\n",
    "pred_1 = regression_1.predict(horse_1)\n",
    "pred_2 = regression_2.predict(horse_2)\n",
    "\n",
    "# The coefficients\n",
    "print(regression_1.coef_)\n",
    "print(regression_2.coef_)"
   ]
  },
  {
   "cell_type": "code",
   "execution_count": 11,
   "metadata": {},
   "outputs": [
    {
     "data": {
      "image/png": "[encoded data removed]",
      "text/plain": [
       "<Figure size 720x432 with 1 Axes>"
      ]
     },
     "metadata": {
      "needs_background": "light"
     },
     "output_type": "display_data"
    }
   ],
   "source": [
    "# Plot outputs\n",
    "plt.figure(figsize=(10,6))\n",
    "\n",
    "plt.scatter(horse_1, yr_old[\"mpg\"],  color='blue', alpha = 0.3, label = \"older cars\")\n",
    "plt.scatter(horse_2, yr_young[\"mpg\"],  color='red', alpha = 0.3, label = \"younger cars\")\n",
    "\n",
    "plt.plot(horse_1, pred_1,  color='blue', linewidth=2)\n",
    "plt.plot(horse_2, pred_2,  color='red', linewidth=2)\n",
    "\n",
    "plt.ylabel(\"mpg\")\n",
    "plt.xlabel(\"horsepower\")\n",
    "plt.legend();"
   ]
  },
  {
   "cell_type": "markdown",
   "metadata": {},
   "source": [
    "More than for our previous example. there seems to be an interaction between horsepower and cars. Let's add the interaction effect in our model and see how it affects $R^2$. "
   ]
  },
  {
   "cell_type": "code",
   "execution_count": 12,
   "metadata": {},
   "outputs": [
    {
     "data": {
      "text/plain": [
       "0.8597777940161033"
      ]
     },
     "execution_count": 12,
     "metadata": {},
     "output_type": "execute_result"
    }
   ],
   "source": [
    "regression = LinearRegression()\n",
    "crossvalidation = KFold(n_splits=3, shuffle=True, random_state=1)\n",
    "\n",
    "X_interact_2 = X.copy()\n",
    "X_interact_2[\"horse_year\"] = X[\"horse\"] * X[\"model year\"]\n",
    "\n",
    "interact_horse_origin = np.mean(cross_val_score(regression, X_interact_2, y, scoring=\"r2\", cv=crossvalidation))\n",
    "interact_horse_origin"
   ]
  },
  {
   "cell_type": "markdown",
   "metadata": {},
   "source": [
    "This result confirms what we have seen before: including this interaction has an even bigger effect on the $R^2$. When running this in statsmodels, unsurprisingly, the effect is significant."
   ]
  },
  {
   "cell_type": "code",
   "execution_count": 13,
   "metadata": {},
   "outputs": [
    {
     "data": {
      "text/html": [
       "<table class=\"simpletable\">\n",
       "<caption>OLS Regression Results</caption>\n",
       "<tr>\n",
       "  <th>Dep. Variable:</th>           <td>mpg</td>       <th>  R-squared:         </th> <td>   0.874</td> \n",
       "</tr>\n",
       "<tr>\n",
       "  <th>Model:</th>                   <td>OLS</td>       <th>  Adj. R-squared:    </th> <td>   0.871</td> \n",
       "</tr>\n",
       "<tr>\n",
       "  <th>Method:</th>             <td>Least Squares</td>  <th>  F-statistic:       </th> <td>   331.7</td> \n",
       "</tr>\n",
       "<tr>\n",
       "  <th>Date:</th>             <td>Wed, 17 Apr 2019</td> <th>  Prob (F-statistic):</th> <td>5.05e-167</td>\n",
       "</tr>\n",
       "<tr>\n",
       "  <th>Time:</th>                 <td>15:26:07</td>     <th>  Log-Likelihood:    </th> <td> -955.36</td> \n",
       "</tr>\n",
       "<tr>\n",
       "  <th>No. Observations:</th>      <td>   392</td>      <th>  AIC:               </th> <td>   1929.</td> \n",
       "</tr>\n",
       "<tr>\n",
       "  <th>Df Residuals:</th>          <td>   383</td>      <th>  BIC:               </th> <td>   1964.</td> \n",
       "</tr>\n",
       "<tr>\n",
       "  <th>Df Model:</th>              <td>     8</td>      <th>                     </th>     <td> </td>    \n",
       "</tr>\n",
       "<tr>\n",
       "  <th>Covariance Type:</th>      <td>nonrobust</td>    <th>                     </th>     <td> </td>    \n",
       "</tr>\n",
       "</table>\n",
       "<table class=\"simpletable\">\n",
       "<tr>\n",
       "       <td></td>         <th>coef</th>     <th>std err</th>      <th>t</th>      <th>P>|t|</th>  <th>[0.025</th>    <th>0.975]</th>  \n",
       "</tr>\n",
       "<tr>\n",
       "  <th>const</th>      <td>  -30.3764</td> <td>    3.792</td> <td>   -8.010</td> <td> 0.000</td> <td>  -37.832</td> <td>  -22.920</td>\n",
       "</tr>\n",
       "<tr>\n",
       "  <th>acc</th>        <td>   -2.2225</td> <td>    1.575</td> <td>   -1.411</td> <td> 0.159</td> <td>   -5.319</td> <td>    0.874</td>\n",
       "</tr>\n",
       "<tr>\n",
       "  <th>disp</th>       <td>   -0.9066</td> <td>    0.689</td> <td>   -1.315</td> <td> 0.189</td> <td>   -2.262</td> <td>    0.449</td>\n",
       "</tr>\n",
       "<tr>\n",
       "  <th>horse</th>      <td>  120.4052</td> <td>   14.754</td> <td>    8.161</td> <td> 0.000</td> <td>   91.395</td> <td>  149.415</td>\n",
       "</tr>\n",
       "<tr>\n",
       "  <th>weight</th>     <td>   -3.7671</td> <td>    0.561</td> <td>   -6.712</td> <td> 0.000</td> <td>   -4.871</td> <td>   -2.664</td>\n",
       "</tr>\n",
       "<tr>\n",
       "  <th>cylinders</th>  <td>    0.3899</td> <td>    0.260</td> <td>    1.498</td> <td> 0.135</td> <td>   -0.122</td> <td>    0.902</td>\n",
       "</tr>\n",
       "<tr>\n",
       "  <th>model year</th> <td>    0.6736</td> <td>    0.043</td> <td>   15.550</td> <td> 0.000</td> <td>    0.588</td> <td>    0.759</td>\n",
       "</tr>\n",
       "<tr>\n",
       "  <th>origin</th>     <td>    0.6130</td> <td>    0.256</td> <td>    2.396</td> <td> 0.017</td> <td>    0.110</td> <td>    1.116</td>\n",
       "</tr>\n",
       "<tr>\n",
       "  <th>horse_year</th> <td>   -1.7272</td> <td>    0.194</td> <td>   -8.896</td> <td> 0.000</td> <td>   -2.109</td> <td>   -1.345</td>\n",
       "</tr>\n",
       "</table>\n",
       "<table class=\"simpletable\">\n",
       "<tr>\n",
       "  <th>Omnibus:</th>       <td>32.600</td> <th>  Durbin-Watson:     </th> <td>   1.580</td>\n",
       "</tr>\n",
       "<tr>\n",
       "  <th>Prob(Omnibus):</th> <td> 0.000</td> <th>  Jarque-Bera (JB):  </th> <td>  67.171</td>\n",
       "</tr>\n",
       "<tr>\n",
       "  <th>Skew:</th>          <td> 0.465</td> <th>  Prob(JB):          </th> <td>2.59e-15</td>\n",
       "</tr>\n",
       "<tr>\n",
       "  <th>Kurtosis:</th>      <td> 4.802</td> <th>  Cond. No.          </th> <td>7.96e+03</td>\n",
       "</tr>\n",
       "</table><br/><br/>Warnings:<br/>[1] Standard Errors assume that the covariance matrix of the errors is correctly specified.<br/>[2] The condition number is large, 7.96e+03. This might indicate that there are<br/>strong multicollinearity or other numerical problems."
      ],
      "text/plain": [
       "<class 'statsmodels.iolib.summary.Summary'>\n",
       "\"\"\"\n",
       "                            OLS Regression Results                            \n",
       "==============================================================================\n",
       "Dep. Variable:                    mpg   R-squared:                       0.874\n",
       "Model:                            OLS   Adj. R-squared:                  0.871\n",
       "Method:                 Least Squares   F-statistic:                     331.7\n",
       "Date:                Wed, 17 Apr 2019   Prob (F-statistic):          5.05e-167\n",
       "Time:                        15:26:07   Log-Likelihood:                -955.36\n",
       "No. Observations:                 392   AIC:                             1929.\n",
       "Df Residuals:                     383   BIC:                             1964.\n",
       "Df Model:                           8                                         \n",
       "Covariance Type:            nonrobust                                         \n",
       "==============================================================================\n",
       "                 coef    std err          t      P>|t|      [0.025      0.975]\n",
       "------------------------------------------------------------------------------\n",
       "const        -30.3764      3.792     -8.010      0.000     -37.832     -22.920\n",
       "acc           -2.2225      1.575     -1.411      0.159      -5.319       0.874\n",
       "disp          -0.9066      0.689     -1.315      0.189      -2.262       0.449\n",
       "horse        120.4052     14.754      8.161      0.000      91.395     149.415\n",
       "weight        -3.7671      0.561     -6.712      0.000      -4.871      -2.664\n",
       "cylinders      0.3899      0.260      1.498      0.135      -0.122       0.902\n",
       "model year     0.6736      0.043     15.550      0.000       0.588       0.759\n",
       "origin         0.6130      0.256      2.396      0.017       0.110       1.116\n",
       "horse_year    -1.7272      0.194     -8.896      0.000      -2.109      -1.345\n",
       "==============================================================================\n",
       "Omnibus:                       32.600   Durbin-Watson:                   1.580\n",
       "Prob(Omnibus):                  0.000   Jarque-Bera (JB):               67.171\n",
       "Skew:                           0.465   Prob(JB):                     2.59e-15\n",
       "Kurtosis:                       4.802   Cond. No.                     7.96e+03\n",
       "==============================================================================\n",
       "\n",
       "Warnings:\n",
       "[1] Standard Errors assume that the covariance matrix of the errors is correctly specified.\n",
       "[2] The condition number is large, 7.96e+03. This might indicate that there are\n",
       "strong multicollinearity or other numerical problems.\n",
       "\"\"\""
      ]
     },
     "execution_count": 13,
     "metadata": {},
     "output_type": "execute_result"
    }
   ],
   "source": [
    "import statsmodels.api as sm\n",
    "X_interact_2 = sm.add_constant(X_interact_2)\n",
    "model = sm.OLS(y,X_interact_2)\n",
    "results = model.fit()\n",
    "\n",
    "results.summary()"
   ]
  },
  {
   "cell_type": "markdown",
   "metadata": {},
   "source": [
    "## Additional resources"
   ]
  },
  {
   "cell_type": "markdown",
   "metadata": {},
   "source": [
    "- You can use the Python library seaborn plots to visualize interactions as well. Have a look [here](https://blog.insightdatascience.com/data-visualization-in-python-advanced-functionality-in-seaborn-20d217f1a9a6) for more information.\n",
    "\n",
    "- [This resource](http://www.medicine.mcgill.ca/epidemiology/joseph/courses/EPIB-621/interaction.pdf) walks over multiple examples of regressions with interaction terms. Even though the code is in R, it might give you some additional insights into how interactions work.\n"
   ]
  },
  {
   "cell_type": "markdown",
   "metadata": {},
   "source": [
    "## Summary"
   ]
  },
  {
   "cell_type": "markdown",
   "metadata": {},
   "source": [
    "Great! You now know how to interpret interactions, how to include them in your model and how to interpret them. Obviously, nothing stops you from adding multiple interactions at the same time, and you probably should for many occasions. You'll practice what you learned in the next lab, including interactions "
   ]
  }
 ],
 "metadata": {
  "kernelspec": {
   "display_name": "Python 3",
   "language": "python",
   "name": "python3"
  },
  "language_info": {
   "codemirror_mode": {
    "name": "ipython",
    "version": 3
   },
   "file_extension": ".py",
   "mimetype": "text/x-python",
   "name": "python",
   "nbconvert_exporter": "python",
   "pygments_lexer": "ipython3",
   "version": "3.6.6"
  }
 },
 "nbformat": 4,
 "nbformat_minor": 2
}
